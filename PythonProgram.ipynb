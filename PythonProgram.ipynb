{
 "cells": [
  {
   "cell_type": "code",
   "execution_count": 1,
   "metadata": {},
   "outputs": [
    {
     "name": "stdout",
     "output_type": "stream",
     "text": [
      "EXAMPLE1: Matrix multiplication is possible because it satisfied the condition\n",
      "[[1, 3, 4], [2, 5, 7], [5, 9, 6]]\n",
      "----------------------------------------------------------------------\n",
      "\n",
      "EXAMPLE2: Matrix multiplication is NOT possible because it doessnot satisfied the condition\n",
      "Sorry! Matrix multiplication is not possible!\n"
     ]
    }
   ],
   "source": [
    "# Printing the product of those two matrices\n",
    "def matrix_mul(A, B):             \n",
    "    \n",
    "    row = len(B)                # Variable row which is holding the Length of B's ROW \n",
    "    column = len(A[0])          # Variable row which is holding the Length of A's COLUMN\n",
    "    \n",
    "   \n",
    "    \n",
    "  # newRow varibale for storing a new row of MATRIX multiplication\n",
    "    newRow = len(A) \n",
    "    \n",
    "  # newRow varibale for storing a new column of MATRIX multiplication\n",
    "    newColumn = len(B[0])\n",
    "    \n",
    "  # Creating an empty list and storing it in a variable named  resultMatrix\n",
    "    resultMatrix = list()  \n",
    "    \n",
    "    \n",
    "    \n",
    "    #Now, creating an empty matrix\n",
    "    \n",
    "    # (CONDITION of MATRIX MULTIPLICATION i.e no of columns of A matrix should be equal to no of rows of B matrix)\n",
    "    if (column==row):                        \n",
    "        for r in range(newRow):\n",
    "            resultMatrix.append([])          # Create an empty sublist\n",
    "            for c in range(newColumn):\n",
    "                resultMatrix[r].append(0)    # Assigning 0 to each element in matrix by using append()\n",
    "    \n",
    "    # For matrix Multiplication\n",
    "    \n",
    "        for r in range(len(A)):\n",
    "            for c in range(len(B[0])):\n",
    "                for t in range(len(A)):\n",
    "                    resultMatrix[r][c] += A[r][t] * B[t][c]\n",
    "        return(resultMatrix)\n",
    "    else:\n",
    "        print(\"Sorry! Matrix multiplication is not possible!\")\n",
    "\n",
    "#Calling \n",
    "print(\"EXAMPLE1: Matrix multiplication is possible because it satisfied the condition\")                           \n",
    "A = [[1,3,4],[2,5,7],[5,9,6]]\n",
    "B = [[1,0,0],[0,1,0],[0,0,1]]\n",
    "print(matrix_mul(A, B))\n",
    "\n",
    "print(\"----------------------------------------------------------------------\\n\")\n",
    "\n",
    "print(\"EXAMPLE2: Matrix multiplication is NOT possible because it doessnot satisfied the condition\") \n",
    "A1= [[1,2] , [3,4]]\n",
    "B1= [[1,4] ,[5, 6] ,[7 ,8],[9 ,6]]\n",
    "matrix_mul(A1, B1)\n"
   ]
  },
  {
   "cell_type": "code",
   "execution_count": null,
   "metadata": {},
   "outputs": [],
   "source": []
  }
 ],
 "metadata": {
  "kernelspec": {
   "display_name": "Python 3",
   "language": "python",
   "name": "python3"
  },
  "language_info": {
   "codemirror_mode": {
    "name": "ipython",
    "version": 3
   },
   "file_extension": ".py",
   "mimetype": "text/x-python",
   "name": "python",
   "nbconvert_exporter": "python",
   "pygments_lexer": "ipython3",
   "version": "3.6.5"
  }
 },
 "nbformat": 4,
 "nbformat_minor": 2
}
